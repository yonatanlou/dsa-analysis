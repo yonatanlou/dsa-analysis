{
 "cells": [
  {
   "cell_type": "code",
   "execution_count": 1,
   "id": "c66649d2-f8da-4a10-8165-99d02ecbc584",
   "metadata": {},
   "outputs": [],
   "source": [
    "import pandas as pd\n",
    "import numpy as np\n",
    "import matplotlib.pyplot as plt\n",
    "import seaborn as sns\n",
    "import glob\n",
    "import os\n",
    "from pathlib import Path\n",
    "\n",
    "# Set up plotting style\n",
    "plt.style.use('default')\n",
    "sns.set_palette(\"husl\")"
   ]
  },
  {
   "cell_type": "code",
   "execution_count": 25,
   "id": "4529b79c",
   "metadata": {},
   "outputs": [
    {
     "name": "stdout",
     "output_type": "stream",
     "text": [
      "Found 3 sample files.\n",
      "Loaded sample_2025-01-03_2025-01-03.parquet with shape (2199995, 37)\n",
      "Loaded sample_2025-01-02_2025-01-02.parquet with shape (2299987, 37)\n",
      "Loaded sample_2025-01-01_2025-01-01.parquet with shape (1800000, 37)\n",
      "Combined DataFrame shape: (6299982, 37)\n"
     ]
    },
    {
     "data": {
      "text/plain": [
       "(6299982, 37)"
      ]
     },
     "execution_count": 25,
     "metadata": {},
     "output_type": "execute_result"
    }
   ],
   "source": [
    "samples_dir = Path('../../data/2025-01-01_2025-01-07_0.04')\n",
    "sample_files = list(samples_dir.glob('sample_*.parquet'))\n",
    "# Load all sample files into a single DataFrame\n",
    "print(f\"Found {len(sample_files)} sample files.\")\n",
    "dfs = []\n",
    "for file in sample_files:\n",
    "    df = pd.read_parquet(file, engine=\"fastparquet\")\n",
    "    dfs.append(df)\n",
    "    print(f\"Loaded {file.name} with shape {df.shape}\")\n",
    "df = pd.concat(dfs, ignore_index=True)\n",
    "\n",
    "print(f\"Combined DataFrame shape: {df.shape}\")\n",
    "df.shape"
   ]
  },
  {
   "cell_type": "code",
   "execution_count": 26,
   "id": "d431f604",
   "metadata": {},
   "outputs": [
    {
     "name": "stdout",
     "output_type": "stream",
     "text": [
      "<class 'pandas.core.frame.DataFrame'>\n",
      "RangeIndex: 6299982 entries, 0 to 6299981\n",
      "Data columns (total 37 columns):\n",
      " #   Column                            Dtype   \n",
      "---  ------                            -----   \n",
      " 0   uuid                              object  \n",
      " 1   decision_visibility               object  \n",
      " 2   decision_visibility_other         object  \n",
      " 3   end_date_visibility_restriction   object  \n",
      " 4   decision_monetary                 object  \n",
      " 5   decision_monetary_other           float64 \n",
      " 6   end_date_monetary_restriction     float64 \n",
      " 7   decision_provision                object  \n",
      " 8   end_date_service_restriction      object  \n",
      " 9   decision_account                  object  \n",
      " 10  end_date_account_restriction      object  \n",
      " 11  account_type                      object  \n",
      " 12  decision_ground                   object  \n",
      " 13  decision_ground_reference_url     object  \n",
      " 14  illegal_content_legal_ground      object  \n",
      " 15  illegal_content_explanation       object  \n",
      " 16  incompatible_content_ground       object  \n",
      " 17  incompatible_content_explanation  object  \n",
      " 18  incompatible_content_illegal      object  \n",
      " 19  category                          object  \n",
      " 20  category_addition                 object  \n",
      " 21  category_specification            object  \n",
      " 22  category_specification_other      object  \n",
      " 23  content_type                      object  \n",
      " 24  content_type_other                object  \n",
      " 25  content_language                  object  \n",
      " 26  content_date                      object  \n",
      " 27  territorial_scope                 object  \n",
      " 28  application_date                  object  \n",
      " 29  decision_facts                    object  \n",
      " 30  source_type                       object  \n",
      " 31  source_identity                   float64 \n",
      " 32  automated_detection               category\n",
      " 33  automated_decision                category\n",
      " 34  platform_name                     object  \n",
      " 35  platform_uid                      object  \n",
      " 36  created_at                        object  \n",
      "dtypes: category(2), float64(3), object(32)\n",
      "memory usage: 1.7+ GB\n"
     ]
    }
   ],
   "source": [
    "df.info()"
   ]
  },
  {
   "cell_type": "code",
   "execution_count": 27,
   "id": "ab6bfe6f",
   "metadata": {},
   "outputs": [
    {
     "data": {
      "text/plain": [
       "Index(['uuid', 'decision_visibility', 'decision_visibility_other',\n",
       "       'end_date_visibility_restriction', 'decision_monetary',\n",
       "       'decision_monetary_other', 'end_date_monetary_restriction',\n",
       "       'decision_provision', 'end_date_service_restriction',\n",
       "       'decision_account', 'end_date_account_restriction', 'account_type',\n",
       "       'decision_ground', 'decision_ground_reference_url',\n",
       "       'illegal_content_legal_ground', 'illegal_content_explanation',\n",
       "       'incompatible_content_ground', 'incompatible_content_explanation',\n",
       "       'incompatible_content_illegal', 'category', 'category_addition',\n",
       "       'category_specification', 'category_specification_other',\n",
       "       'content_type', 'content_type_other', 'content_language',\n",
       "       'content_date', 'territorial_scope', 'application_date',\n",
       "       'decision_facts', 'source_type', 'source_identity',\n",
       "       'automated_detection', 'automated_decision', 'platform_name',\n",
       "       'platform_uid', 'created_at'],\n",
       "      dtype='object')"
      ]
     },
     "execution_count": 27,
     "metadata": {},
     "output_type": "execute_result"
    }
   ],
   "source": [
    "df.columns"
   ]
  },
  {
   "cell_type": "code",
   "execution_count": 29,
   "id": "a55da71e",
   "metadata": {},
   "outputs": [
    {
     "data": {
      "application/vnd.microsoft.datawrangler.viewer.v0+json": {
       "columns": [
        {
         "name": "index",
         "rawType": "int64",
         "type": "integer"
        },
        {
         "name": "platform_name",
         "rawType": "object",
         "type": "string"
        },
        {
         "name": "count",
         "rawType": "int64",
         "type": "integer"
        },
        {
         "name": "ratio",
         "rawType": "float64",
         "type": "float"
        }
       ],
       "ref": "1330fcad-9891-40ad-9fb6-93fffba217fa",
       "rows": [
        [
         "0",
         "Google Shopping",
         "5396556",
         "0.8565986379008702"
        ],
        [
         "1",
         "TikTok",
         "401247",
         "0.06369018197194849"
        ],
        [
         "2",
         "Facebook",
         "206381",
         "0.032758982485981705"
        ],
        [
         "3",
         "Pinterest",
         "106844",
         "0.01695941353483232"
        ],
        [
         "4",
         "Amazon Store",
         "83355",
         "0.013230990183781478"
        ],
        [
         "5",
         "SIA \"JOOM\"",
         "28604",
         "0.0045403304326901255"
        ],
        [
         "6",
         "Instagram",
         "22070",
         "0.0035031846122734953"
        ],
        [
         "7",
         "Vinted UAB",
         "8327",
         "0.0013217498081740551"
        ],
        [
         "8",
         "BlaBlaCar",
         "7754",
         "0.0012307971673569862"
        ],
        [
         "9",
         "Google Maps",
         "5530",
         "0.0008777802857214513"
        ],
        [
         "10",
         "YouTube",
         "5469",
         "0.0008680977183744335"
        ],
        [
         "11",
         "Wallapop",
         "4698",
         "0.0007457164163326181"
        ],
        [
         "12",
         "Temu",
         "4600",
         "0.0007301608163324911"
        ],
        [
         "13",
         "Discord Netherlands B.V.",
         "3589",
         "0.0005696841673515893"
        ],
        [
         "14",
         "Idealo",
         "3484",
         "0.0005530174530657389"
        ],
        [
         "15",
         "Trustpilot",
         "1879",
         "0.000298254820410598"
        ],
        [
         "16",
         "leboncoin",
         "1842",
         "0.00029238178775748883"
        ],
        [
         "17",
         "Kleinanzeigen",
         "1791",
         "0.00028428652653293294"
        ],
        [
         "18",
         "Badoo",
         "1449",
         "0.0002300006571447347"
        ],
        [
         "19",
         "Snapchat",
         "1067",
         "0.0001693655632666887"
        ],
        [
         "20",
         "Bumble",
         "741",
         "0.00011761938367442955"
        ],
        [
         "21",
         "www.gutefrage.net",
         "503",
         "7.984149795983544e-05"
        ],
        [
         "22",
         "Booking.com",
         "385",
         "6.111128571478459e-05"
        ],
        [
         "23",
         "willhaben internet service GmbH & Co KG",
         "361",
         "5.7301751020875933e-05"
        ],
        [
         "24",
         "Threads",
         "214",
         "3.396835102068546e-05"
        ],
        [
         "25",
         "Campfire",
         "176",
         "2.7936587755330095e-05"
        ],
        [
         "26",
         "OTTO Market",
         "166",
         "2.6349281632868158e-05"
        ],
        [
         "27",
         "Stripchat",
         "161",
         "2.555562857163719e-05"
        ],
        [
         "28",
         "Cdiscount",
         "134",
         "2.1269902040989957e-05"
        ],
        [
         "29",
         "Reddit",
         "108",
         "1.714290612258892e-05"
        ],
        [
         "30",
         "Shein",
         "98",
         "1.5555600000126984e-05"
        ],
        [
         "31",
         "LinkedIn",
         "60",
         "9.523836734771624e-06"
        ],
        [
         "32",
         "App Store",
         "60",
         "9.523836734771624e-06"
        ],
        [
         "33",
         "Glassdoor",
         "59",
         "9.36510612252543e-06"
        ],
        [
         "34",
         "Pornhub",
         "57",
         "9.047644898033042e-06"
        ],
        [
         "35",
         "OLX",
         "48",
         "7.619069387817298e-06"
        ],
        [
         "36",
         "X",
         "47",
         "7.4603387755711045e-06"
        ],
        [
         "37",
         "Használtautó.hu",
         "18",
         "2.8571510204314868e-06"
        ],
        [
         "38",
         "mobile.de",
         "18",
         "2.8571510204314868e-06"
        ],
        [
         "39",
         "Deliveroo Ireland",
         "12",
         "1.9047673469543246e-06"
        ],
        [
         "40",
         "Google Play",
         "11",
         "1.746036734708131e-06"
        ],
        [
         "41",
         "DoneDeal.ie",
         "4",
         "6.349224489847749e-07"
        ],
        [
         "42",
         "Chrome Web Store",
         "4",
         "6.349224489847749e-07"
        ],
        [
         "43",
         "Tenor",
         "1",
         "1.5873061224619372e-07"
        ]
       ],
       "shape": {
        "columns": 3,
        "rows": 44
       }
      },
      "text/html": [
       "<div>\n",
       "<style scoped>\n",
       "    .dataframe tbody tr th:only-of-type {\n",
       "        vertical-align: middle;\n",
       "    }\n",
       "\n",
       "    .dataframe tbody tr th {\n",
       "        vertical-align: top;\n",
       "    }\n",
       "\n",
       "    .dataframe thead th {\n",
       "        text-align: right;\n",
       "    }\n",
       "</style>\n",
       "<table border=\"1\" class=\"dataframe\">\n",
       "  <thead>\n",
       "    <tr style=\"text-align: right;\">\n",
       "      <th></th>\n",
       "      <th>platform_name</th>\n",
       "      <th>count</th>\n",
       "      <th>ratio</th>\n",
       "    </tr>\n",
       "  </thead>\n",
       "  <tbody>\n",
       "    <tr>\n",
       "      <th>0</th>\n",
       "      <td>Google Shopping</td>\n",
       "      <td>5396556</td>\n",
       "      <td>8.565986e-01</td>\n",
       "    </tr>\n",
       "    <tr>\n",
       "      <th>1</th>\n",
       "      <td>TikTok</td>\n",
       "      <td>401247</td>\n",
       "      <td>6.369018e-02</td>\n",
       "    </tr>\n",
       "    <tr>\n",
       "      <th>2</th>\n",
       "      <td>Facebook</td>\n",
       "      <td>206381</td>\n",
       "      <td>3.275898e-02</td>\n",
       "    </tr>\n",
       "    <tr>\n",
       "      <th>3</th>\n",
       "      <td>Pinterest</td>\n",
       "      <td>106844</td>\n",
       "      <td>1.695941e-02</td>\n",
       "    </tr>\n",
       "    <tr>\n",
       "      <th>4</th>\n",
       "      <td>Amazon Store</td>\n",
       "      <td>83355</td>\n",
       "      <td>1.323099e-02</td>\n",
       "    </tr>\n",
       "    <tr>\n",
       "      <th>5</th>\n",
       "      <td>SIA \"JOOM\"</td>\n",
       "      <td>28604</td>\n",
       "      <td>4.540330e-03</td>\n",
       "    </tr>\n",
       "    <tr>\n",
       "      <th>6</th>\n",
       "      <td>Instagram</td>\n",
       "      <td>22070</td>\n",
       "      <td>3.503185e-03</td>\n",
       "    </tr>\n",
       "    <tr>\n",
       "      <th>7</th>\n",
       "      <td>Vinted UAB</td>\n",
       "      <td>8327</td>\n",
       "      <td>1.321750e-03</td>\n",
       "    </tr>\n",
       "    <tr>\n",
       "      <th>8</th>\n",
       "      <td>BlaBlaCar</td>\n",
       "      <td>7754</td>\n",
       "      <td>1.230797e-03</td>\n",
       "    </tr>\n",
       "    <tr>\n",
       "      <th>9</th>\n",
       "      <td>Google Maps</td>\n",
       "      <td>5530</td>\n",
       "      <td>8.777803e-04</td>\n",
       "    </tr>\n",
       "    <tr>\n",
       "      <th>10</th>\n",
       "      <td>YouTube</td>\n",
       "      <td>5469</td>\n",
       "      <td>8.680977e-04</td>\n",
       "    </tr>\n",
       "    <tr>\n",
       "      <th>11</th>\n",
       "      <td>Wallapop</td>\n",
       "      <td>4698</td>\n",
       "      <td>7.457164e-04</td>\n",
       "    </tr>\n",
       "    <tr>\n",
       "      <th>12</th>\n",
       "      <td>Temu</td>\n",
       "      <td>4600</td>\n",
       "      <td>7.301608e-04</td>\n",
       "    </tr>\n",
       "    <tr>\n",
       "      <th>13</th>\n",
       "      <td>Discord Netherlands B.V.</td>\n",
       "      <td>3589</td>\n",
       "      <td>5.696842e-04</td>\n",
       "    </tr>\n",
       "    <tr>\n",
       "      <th>14</th>\n",
       "      <td>Idealo</td>\n",
       "      <td>3484</td>\n",
       "      <td>5.530175e-04</td>\n",
       "    </tr>\n",
       "    <tr>\n",
       "      <th>15</th>\n",
       "      <td>Trustpilot</td>\n",
       "      <td>1879</td>\n",
       "      <td>2.982548e-04</td>\n",
       "    </tr>\n",
       "    <tr>\n",
       "      <th>16</th>\n",
       "      <td>leboncoin</td>\n",
       "      <td>1842</td>\n",
       "      <td>2.923818e-04</td>\n",
       "    </tr>\n",
       "    <tr>\n",
       "      <th>17</th>\n",
       "      <td>Kleinanzeigen</td>\n",
       "      <td>1791</td>\n",
       "      <td>2.842865e-04</td>\n",
       "    </tr>\n",
       "    <tr>\n",
       "      <th>18</th>\n",
       "      <td>Badoo</td>\n",
       "      <td>1449</td>\n",
       "      <td>2.300007e-04</td>\n",
       "    </tr>\n",
       "    <tr>\n",
       "      <th>19</th>\n",
       "      <td>Snapchat</td>\n",
       "      <td>1067</td>\n",
       "      <td>1.693656e-04</td>\n",
       "    </tr>\n",
       "    <tr>\n",
       "      <th>20</th>\n",
       "      <td>Bumble</td>\n",
       "      <td>741</td>\n",
       "      <td>1.176194e-04</td>\n",
       "    </tr>\n",
       "    <tr>\n",
       "      <th>21</th>\n",
       "      <td>www.gutefrage.net</td>\n",
       "      <td>503</td>\n",
       "      <td>7.984150e-05</td>\n",
       "    </tr>\n",
       "    <tr>\n",
       "      <th>22</th>\n",
       "      <td>Booking.com</td>\n",
       "      <td>385</td>\n",
       "      <td>6.111129e-05</td>\n",
       "    </tr>\n",
       "    <tr>\n",
       "      <th>23</th>\n",
       "      <td>willhaben internet service GmbH &amp; Co KG</td>\n",
       "      <td>361</td>\n",
       "      <td>5.730175e-05</td>\n",
       "    </tr>\n",
       "    <tr>\n",
       "      <th>24</th>\n",
       "      <td>Threads</td>\n",
       "      <td>214</td>\n",
       "      <td>3.396835e-05</td>\n",
       "    </tr>\n",
       "    <tr>\n",
       "      <th>25</th>\n",
       "      <td>Campfire</td>\n",
       "      <td>176</td>\n",
       "      <td>2.793659e-05</td>\n",
       "    </tr>\n",
       "    <tr>\n",
       "      <th>26</th>\n",
       "      <td>OTTO Market</td>\n",
       "      <td>166</td>\n",
       "      <td>2.634928e-05</td>\n",
       "    </tr>\n",
       "    <tr>\n",
       "      <th>27</th>\n",
       "      <td>Stripchat</td>\n",
       "      <td>161</td>\n",
       "      <td>2.555563e-05</td>\n",
       "    </tr>\n",
       "    <tr>\n",
       "      <th>28</th>\n",
       "      <td>Cdiscount</td>\n",
       "      <td>134</td>\n",
       "      <td>2.126990e-05</td>\n",
       "    </tr>\n",
       "    <tr>\n",
       "      <th>29</th>\n",
       "      <td>Reddit</td>\n",
       "      <td>108</td>\n",
       "      <td>1.714291e-05</td>\n",
       "    </tr>\n",
       "    <tr>\n",
       "      <th>30</th>\n",
       "      <td>Shein</td>\n",
       "      <td>98</td>\n",
       "      <td>1.555560e-05</td>\n",
       "    </tr>\n",
       "    <tr>\n",
       "      <th>31</th>\n",
       "      <td>LinkedIn</td>\n",
       "      <td>60</td>\n",
       "      <td>9.523837e-06</td>\n",
       "    </tr>\n",
       "    <tr>\n",
       "      <th>32</th>\n",
       "      <td>App Store</td>\n",
       "      <td>60</td>\n",
       "      <td>9.523837e-06</td>\n",
       "    </tr>\n",
       "    <tr>\n",
       "      <th>33</th>\n",
       "      <td>Glassdoor</td>\n",
       "      <td>59</td>\n",
       "      <td>9.365106e-06</td>\n",
       "    </tr>\n",
       "    <tr>\n",
       "      <th>34</th>\n",
       "      <td>Pornhub</td>\n",
       "      <td>57</td>\n",
       "      <td>9.047645e-06</td>\n",
       "    </tr>\n",
       "    <tr>\n",
       "      <th>35</th>\n",
       "      <td>OLX</td>\n",
       "      <td>48</td>\n",
       "      <td>7.619069e-06</td>\n",
       "    </tr>\n",
       "    <tr>\n",
       "      <th>36</th>\n",
       "      <td>X</td>\n",
       "      <td>47</td>\n",
       "      <td>7.460339e-06</td>\n",
       "    </tr>\n",
       "    <tr>\n",
       "      <th>37</th>\n",
       "      <td>Használtautó.hu</td>\n",
       "      <td>18</td>\n",
       "      <td>2.857151e-06</td>\n",
       "    </tr>\n",
       "    <tr>\n",
       "      <th>38</th>\n",
       "      <td>mobile.de</td>\n",
       "      <td>18</td>\n",
       "      <td>2.857151e-06</td>\n",
       "    </tr>\n",
       "    <tr>\n",
       "      <th>39</th>\n",
       "      <td>Deliveroo Ireland</td>\n",
       "      <td>12</td>\n",
       "      <td>1.904767e-06</td>\n",
       "    </tr>\n",
       "    <tr>\n",
       "      <th>40</th>\n",
       "      <td>Google Play</td>\n",
       "      <td>11</td>\n",
       "      <td>1.746037e-06</td>\n",
       "    </tr>\n",
       "    <tr>\n",
       "      <th>41</th>\n",
       "      <td>DoneDeal.ie</td>\n",
       "      <td>4</td>\n",
       "      <td>6.349224e-07</td>\n",
       "    </tr>\n",
       "    <tr>\n",
       "      <th>42</th>\n",
       "      <td>Chrome Web Store</td>\n",
       "      <td>4</td>\n",
       "      <td>6.349224e-07</td>\n",
       "    </tr>\n",
       "    <tr>\n",
       "      <th>43</th>\n",
       "      <td>Tenor</td>\n",
       "      <td>1</td>\n",
       "      <td>1.587306e-07</td>\n",
       "    </tr>\n",
       "  </tbody>\n",
       "</table>\n",
       "</div>"
      ],
      "text/plain": [
       "                              platform_name    count         ratio\n",
       "0                           Google Shopping  5396556  8.565986e-01\n",
       "1                                    TikTok   401247  6.369018e-02\n",
       "2                                  Facebook   206381  3.275898e-02\n",
       "3                                 Pinterest   106844  1.695941e-02\n",
       "4                              Amazon Store    83355  1.323099e-02\n",
       "5                                SIA \"JOOM\"    28604  4.540330e-03\n",
       "6                                 Instagram    22070  3.503185e-03\n",
       "7                                Vinted UAB     8327  1.321750e-03\n",
       "8                                 BlaBlaCar     7754  1.230797e-03\n",
       "9                               Google Maps     5530  8.777803e-04\n",
       "10                                  YouTube     5469  8.680977e-04\n",
       "11                                 Wallapop     4698  7.457164e-04\n",
       "12                                     Temu     4600  7.301608e-04\n",
       "13                 Discord Netherlands B.V.     3589  5.696842e-04\n",
       "14                                   Idealo     3484  5.530175e-04\n",
       "15                               Trustpilot     1879  2.982548e-04\n",
       "16                                leboncoin     1842  2.923818e-04\n",
       "17                            Kleinanzeigen     1791  2.842865e-04\n",
       "18                                    Badoo     1449  2.300007e-04\n",
       "19                                 Snapchat     1067  1.693656e-04\n",
       "20                                   Bumble      741  1.176194e-04\n",
       "21                        www.gutefrage.net      503  7.984150e-05\n",
       "22                              Booking.com      385  6.111129e-05\n",
       "23  willhaben internet service GmbH & Co KG      361  5.730175e-05\n",
       "24                                  Threads      214  3.396835e-05\n",
       "25                                 Campfire      176  2.793659e-05\n",
       "26                              OTTO Market      166  2.634928e-05\n",
       "27                                Stripchat      161  2.555563e-05\n",
       "28                                Cdiscount      134  2.126990e-05\n",
       "29                                   Reddit      108  1.714291e-05\n",
       "30                                    Shein       98  1.555560e-05\n",
       "31                                 LinkedIn       60  9.523837e-06\n",
       "32                                App Store       60  9.523837e-06\n",
       "33                                Glassdoor       59  9.365106e-06\n",
       "34                                  Pornhub       57  9.047645e-06\n",
       "35                                      OLX       48  7.619069e-06\n",
       "36                                        X       47  7.460339e-06\n",
       "37                          Használtautó.hu       18  2.857151e-06\n",
       "38                                mobile.de       18  2.857151e-06\n",
       "39                        Deliveroo Ireland       12  1.904767e-06\n",
       "40                              Google Play       11  1.746037e-06\n",
       "41                              DoneDeal.ie        4  6.349224e-07\n",
       "42                         Chrome Web Store        4  6.349224e-07\n",
       "43                                    Tenor        1  1.587306e-07"
      ]
     },
     "execution_count": 29,
     "metadata": {},
     "output_type": "execute_result"
    }
   ],
   "source": [
    "# Filter out Google Shopping\n",
    "\n",
    "\n",
    "# Calculate counts and proportions in one step\n",
    "platform_counts = (df[\"platform_name\"]\n",
    "                   .value_counts()\n",
    "                   .to_frame(\"count\")\n",
    "                   .assign(ratio=lambda x: x[\"count\"] / x[\"count\"].sum())\n",
    "                   .sort_values(\"count\", ascending=False)\n",
    "                   .reset_index())\n",
    "\n",
    "platform_counts"
   ]
  },
  {
   "cell_type": "code",
   "execution_count": null,
   "id": "f3169188",
   "metadata": {},
   "outputs": [
    {
     "data": {
      "text/plain": [
       "['Google Shopping',\n",
       " 'TikTok',\n",
       " 'Facebook',\n",
       " 'Pinterest',\n",
       " 'Amazon Store',\n",
       " 'SIA \"JOOM\"',\n",
       " 'Instagram',\n",
       " 'Vinted UAB',\n",
       " 'BlaBlaCar',\n",
       " 'Google Maps',\n",
       " 'YouTube',\n",
       " 'Wallapop',\n",
       " 'Temu',\n",
       " 'Discord Netherlands B.V.',\n",
       " 'Idealo',\n",
       " 'Trustpilot',\n",
       " 'leboncoin',\n",
       " 'Kleinanzeigen',\n",
       " 'Badoo',\n",
       " 'Snapchat']"
      ]
     },
     "execution_count": 31,
     "metadata": {},
     "output_type": "execute_result"
    }
   ],
   "source": [
    "relevant_platforms = [\"AliExpress\", \"Amazon Store\", \"Facebook\", \"Google Maps\", \"Google Shopping\", \"Instagram\", \"Pinterest\", \"TikTok\", \"YouTube\"]\n",
    "list(platform_counts[\"platform_name\"])[:20]"
   ]
  },
  {
   "cell_type": "code",
   "execution_count": 14,
   "id": "3e18ad0d",
   "metadata": {},
   "outputs": [
    {
     "data": {
      "application/vnd.microsoft.datawrangler.viewer.v0+json": {
       "columns": [
        {
         "name": "index",
         "rawType": "int64",
         "type": "integer"
        },
        {
         "name": "platform_name",
         "rawType": "object",
         "type": "string"
        },
        {
         "name": "category",
         "rawType": "object",
         "type": "string"
        },
        {
         "name": "count",
         "rawType": "int64",
         "type": "integer"
        }
       ],
       "ref": "48a0ab0e-ed32-4aa0-98a4-a5b4cd69cfbe",
       "rows": [
        [
         "42",
         "Google Shopping",
         "STATEMENT_CATEGORY_SCOPE_OF_PLATFORM_SERVICE",
         "3580428"
        ],
        [
         "35",
         "Facebook",
         "STATEMENT_CATEGORY_SCOPE_OF_PLATFORM_SERVICE",
         "129743"
        ],
        [
         "144",
         "TikTok",
         "STATEMENT_CATEGORY_SCOPE_OF_PLATFORM_SERVICE",
         "114897"
        ],
        [
         "136",
         "TikTok",
         "STATEMENT_CATEGORY_ILLEGAL_OR_HARMFUL_SPEECH",
         "97846"
        ],
        [
         "0",
         "Amazon Store",
         "STATEMENT_CATEGORY_SCOPE_OF_PLATFORM_SERVICE",
         "44042"
        ],
        [
         "86",
         "Pinterest",
         "STATEMENT_CATEGORY_PORNOGRAPHY_OR_SEXUALIZED_CONTENT",
         "27742"
        ],
        [
         "1",
         "Amazon Store",
         "STATEMENT_CATEGORY_UNSAFE_AND_ILLEGAL_PRODUCTS",
         "24378"
        ],
        [
         "57",
         "Instagram",
         "STATEMENT_CATEGORY_SCOPE_OF_PLATFORM_SERVICE",
         "10301"
        ],
        [
         "146",
         "TikTok",
         "STATEMENT_CATEGORY_VIOLENCE",
         "10200"
        ],
        [
         "138",
         "TikTok",
         "STATEMENT_CATEGORY_NEGATIVE_EFFECTS_ON_CIVIC_DISCOURSE_OR_ELECTIONS",
         "6798"
        ],
        [
         "92",
         "Pinterest",
         "STATEMENT_CATEGORY_VIOLENCE",
         "5480"
        ],
        [
         "7",
         "BlaBlaCar",
         "STATEMENT_CATEGORY_SCOPE_OF_PLATFORM_SERVICE",
         "3456"
        ],
        [
         "90",
         "Pinterest",
         "STATEMENT_CATEGORY_SELF_HARM",
         "3431"
        ],
        [
         "105",
         "SIA \"JOOM\"",
         "STATEMENT_CATEGORY_SCOPE_OF_PLATFORM_SERVICE",
         "3243"
        ],
        [
         "141",
         "TikTok",
         "STATEMENT_CATEGORY_PROTECTION_OF_MINORS",
         "3194"
        ],
        [
         "143",
         "TikTok",
         "STATEMENT_CATEGORY_SCAMS_AND_FRAUD",
         "2940"
        ],
        [
         "124",
         "Temu",
         "STATEMENT_CATEGORY_SCOPE_OF_PLATFORM_SERVICE",
         "2897"
        ],
        [
         "82",
         "Pinterest",
         "STATEMENT_CATEGORY_ILLEGAL_OR_HARMFUL_SPEECH",
         "1747"
        ],
        [
         "27",
         "Facebook",
         "STATEMENT_CATEGORY_DATA_PROTECTION_AND_PRIVACY_VIOLATIONS",
         "1710"
        ],
        [
         "155",
         "Vinted UAB",
         "STATEMENT_CATEGORY_SCOPE_OF_PLATFORM_SERVICE",
         "1681"
        ],
        [
         "135",
         "TikTok",
         "STATEMENT_CATEGORY_DATA_PROTECTION_AND_PRIVACY_VIOLATIONS",
         "1655"
        ],
        [
         "21",
         "Discord Netherlands B.V.",
         "STATEMENT_CATEGORY_NON_CONSENSUAL_BEHAVIOUR",
         "1409"
        ],
        [
         "31",
         "Facebook",
         "STATEMENT_CATEGORY_PORNOGRAPHY_OR_SEXUALIZED_CONTENT",
         "1335"
        ],
        [
         "154",
         "Vinted UAB",
         "STATEMENT_CATEGORY_SCAMS_AND_FRAUD",
         "1305"
        ],
        [
         "148",
         "Trustpilot",
         "STATEMENT_CATEGORY_SCOPE_OF_PLATFORM_SERVICE",
         "1107"
        ],
        [
         "140",
         "TikTok",
         "STATEMENT_CATEGORY_PORNOGRAPHY_OR_SEXUALIZED_CONTENT",
         "1017"
        ],
        [
         "53",
         "Instagram",
         "STATEMENT_CATEGORY_PORNOGRAPHY_OR_SEXUALIZED_CONTENT",
         "928"
        ],
        [
         "45",
         "Idealo",
         "STATEMENT_CATEGORY_PROTECTION_OF_MINORS",
         "916"
        ],
        [
         "161",
         "Wallapop",
         "STATEMENT_CATEGORY_SCOPE_OF_PLATFORM_SERVICE",
         "781"
        ],
        [
         "50",
         "Instagram",
         "STATEMENT_CATEGORY_ILLEGAL_OR_HARMFUL_SPEECH",
         "753"
        ],
        [
         "5",
         "Badoo",
         "STATEMENT_CATEGORY_SCOPE_OF_PLATFORM_SERVICE",
         "733"
        ],
        [
         "28",
         "Facebook",
         "STATEMENT_CATEGORY_ILLEGAL_OR_HARMFUL_SPEECH",
         "732"
        ],
        [
         "164",
         "leboncoin",
         "STATEMENT_CATEGORY_ILLEGAL_OR_HARMFUL_SPEECH",
         "665"
        ],
        [
         "46",
         "Idealo",
         "STATEMENT_CATEGORY_SCOPE_OF_PLATFORM_SERVICE",
         "612"
        ],
        [
         "38",
         "Facebook",
         "STATEMENT_CATEGORY_VIOLENCE",
         "598"
        ],
        [
         "151",
         "Vinted UAB",
         "STATEMENT_CATEGORY_INTELLECTUAL_PROPERTY_INFRINGEMENTS",
         "587"
        ],
        [
         "22",
         "Discord Netherlands B.V.",
         "STATEMENT_CATEGORY_PROTECTION_OF_MINORS",
         "538"
        ],
        [
         "60",
         "Instagram",
         "STATEMENT_CATEGORY_VIOLENCE",
         "466"
        ],
        [
         "34",
         "Facebook",
         "STATEMENT_CATEGORY_SCAMS_AND_FRAUD",
         "457"
        ],
        [
         "168",
         "leboncoin",
         "STATEMENT_CATEGORY_SCAMS_AND_FRAUD",
         "444"
        ],
        [
         "11",
         "Bumble",
         "STATEMENT_CATEGORY_SCOPE_OF_PLATFORM_SERVICE",
         "365"
        ],
        [
         "49",
         "Instagram",
         "STATEMENT_CATEGORY_DATA_PROTECTION_AND_PRIVACY_VIOLATIONS",
         "345"
        ],
        [
         "47",
         "Idealo",
         "STATEMENT_CATEGORY_UNSAFE_AND_ILLEGAL_PRODUCTS",
         "335"
        ],
        [
         "134",
         "TikTok",
         "STATEMENT_CATEGORY_ANIMAL_WELFARE",
         "278"
        ],
        [
         "87",
         "Pinterest",
         "STATEMENT_CATEGORY_PROTECTION_OF_MINORS",
         "241"
        ],
        [
         "67",
         "Kleinanzeigen",
         "STATEMENT_CATEGORY_SCOPE_OF_PLATFORM_SERVICE",
         "240"
        ],
        [
         "68",
         "Kleinanzeigen",
         "STATEMENT_CATEGORY_UNSAFE_AND_ILLEGAL_PRODUCTS",
         "233"
        ],
        [
         "145",
         "TikTok",
         "STATEMENT_CATEGORY_SELF_HARM",
         "225"
        ],
        [
         "170",
         "leboncoin",
         "STATEMENT_CATEGORY_UNSAFE_AND_ILLEGAL_PRODUCTS",
         "220"
        ],
        [
         "44",
         "Idealo",
         "STATEMENT_CATEGORY_INTELLECTUAL_PROPERTY_INFRINGEMENTS",
         "213"
        ]
       ],
       "shape": {
        "columns": 3,
        "rows": 177
       }
      },
      "text/html": [
       "<div>\n",
       "<style scoped>\n",
       "    .dataframe tbody tr th:only-of-type {\n",
       "        vertical-align: middle;\n",
       "    }\n",
       "\n",
       "    .dataframe tbody tr th {\n",
       "        vertical-align: top;\n",
       "    }\n",
       "\n",
       "    .dataframe thead th {\n",
       "        text-align: right;\n",
       "    }\n",
       "</style>\n",
       "<table border=\"1\" class=\"dataframe\">\n",
       "  <thead>\n",
       "    <tr style=\"text-align: right;\">\n",
       "      <th></th>\n",
       "      <th>platform_name</th>\n",
       "      <th>category</th>\n",
       "      <th>count</th>\n",
       "    </tr>\n",
       "  </thead>\n",
       "  <tbody>\n",
       "    <tr>\n",
       "      <th>42</th>\n",
       "      <td>Google Shopping</td>\n",
       "      <td>STATEMENT_CATEGORY_SCOPE_OF_PLATFORM_SERVICE</td>\n",
       "      <td>3580428</td>\n",
       "    </tr>\n",
       "    <tr>\n",
       "      <th>35</th>\n",
       "      <td>Facebook</td>\n",
       "      <td>STATEMENT_CATEGORY_SCOPE_OF_PLATFORM_SERVICE</td>\n",
       "      <td>129743</td>\n",
       "    </tr>\n",
       "    <tr>\n",
       "      <th>144</th>\n",
       "      <td>TikTok</td>\n",
       "      <td>STATEMENT_CATEGORY_SCOPE_OF_PLATFORM_SERVICE</td>\n",
       "      <td>114897</td>\n",
       "    </tr>\n",
       "    <tr>\n",
       "      <th>136</th>\n",
       "      <td>TikTok</td>\n",
       "      <td>STATEMENT_CATEGORY_ILLEGAL_OR_HARMFUL_SPEECH</td>\n",
       "      <td>97846</td>\n",
       "    </tr>\n",
       "    <tr>\n",
       "      <th>0</th>\n",
       "      <td>Amazon Store</td>\n",
       "      <td>STATEMENT_CATEGORY_SCOPE_OF_PLATFORM_SERVICE</td>\n",
       "      <td>44042</td>\n",
       "    </tr>\n",
       "    <tr>\n",
       "      <th>...</th>\n",
       "      <td>...</td>\n",
       "      <td>...</td>\n",
       "      <td>...</td>\n",
       "    </tr>\n",
       "    <tr>\n",
       "      <th>126</th>\n",
       "      <td>Threads</td>\n",
       "      <td>STATEMENT_CATEGORY_DATA_PROTECTION_AND_PRIVACY...</td>\n",
       "      <td>1</td>\n",
       "    </tr>\n",
       "    <tr>\n",
       "      <th>117</th>\n",
       "      <td>Snapchat</td>\n",
       "      <td>STATEMENT_CATEGORY_SELF_HARM</td>\n",
       "      <td>1</td>\n",
       "    </tr>\n",
       "    <tr>\n",
       "      <th>152</th>\n",
       "      <td>Vinted UAB</td>\n",
       "      <td>STATEMENT_CATEGORY_NON_CONSENSUAL_BEHAVIOUR</td>\n",
       "      <td>1</td>\n",
       "    </tr>\n",
       "    <tr>\n",
       "      <th>149</th>\n",
       "      <td>Vinted UAB</td>\n",
       "      <td>STATEMENT_CATEGORY_ANIMAL_WELFARE</td>\n",
       "      <td>1</td>\n",
       "    </tr>\n",
       "    <tr>\n",
       "      <th>167</th>\n",
       "      <td>leboncoin</td>\n",
       "      <td>STATEMENT_CATEGORY_PROTECTION_OF_MINORS</td>\n",
       "      <td>1</td>\n",
       "    </tr>\n",
       "  </tbody>\n",
       "</table>\n",
       "<p>177 rows × 3 columns</p>\n",
       "</div>"
      ],
      "text/plain": [
       "       platform_name                                           category  \\\n",
       "42   Google Shopping       STATEMENT_CATEGORY_SCOPE_OF_PLATFORM_SERVICE   \n",
       "35          Facebook       STATEMENT_CATEGORY_SCOPE_OF_PLATFORM_SERVICE   \n",
       "144           TikTok       STATEMENT_CATEGORY_SCOPE_OF_PLATFORM_SERVICE   \n",
       "136           TikTok       STATEMENT_CATEGORY_ILLEGAL_OR_HARMFUL_SPEECH   \n",
       "0       Amazon Store       STATEMENT_CATEGORY_SCOPE_OF_PLATFORM_SERVICE   \n",
       "..               ...                                                ...   \n",
       "126          Threads  STATEMENT_CATEGORY_DATA_PROTECTION_AND_PRIVACY...   \n",
       "117         Snapchat                       STATEMENT_CATEGORY_SELF_HARM   \n",
       "152       Vinted UAB        STATEMENT_CATEGORY_NON_CONSENSUAL_BEHAVIOUR   \n",
       "149       Vinted UAB                  STATEMENT_CATEGORY_ANIMAL_WELFARE   \n",
       "167        leboncoin            STATEMENT_CATEGORY_PROTECTION_OF_MINORS   \n",
       "\n",
       "       count  \n",
       "42   3580428  \n",
       "35    129743  \n",
       "144   114897  \n",
       "136    97846  \n",
       "0      44042  \n",
       "..       ...  \n",
       "126        1  \n",
       "117        1  \n",
       "152        1  \n",
       "149        1  \n",
       "167        1  \n",
       "\n",
       "[177 rows x 3 columns]"
      ]
     },
     "execution_count": 14,
     "metadata": {},
     "output_type": "execute_result"
    }
   ],
   "source": [
    "df[[\"platform_name\",\"category\"]].groupby([\"platform_name\",\"category\"]).size().reset_index(name='count').sort_values(by='count', ascending=False)"
   ]
  },
  {
   "cell_type": "code",
   "execution_count": 43,
   "id": "2429765d",
   "metadata": {},
   "outputs": [
    {
     "data": {
      "application/vnd.microsoft.datawrangler.viewer.v0+json": {
       "columns": [
        {
         "name": "decision_account",
         "rawType": "object",
         "type": "string"
        },
        {
         "name": "count",
         "rawType": "int64",
         "type": "integer"
        }
       ],
       "ref": "b5d1ef0e-e849-48bb-bd0b-2d3fea491ac6",
       "rows": [
        [
         "DECISION_ACCOUNT_SUSPENDED",
         "199685"
        ],
        [
         "DECISION_ACCOUNT_TERMINATED",
         "20269"
        ]
       ],
       "shape": {
        "columns": 1,
        "rows": 2
       }
      },
      "text/plain": [
       "decision_account\n",
       "DECISION_ACCOUNT_SUSPENDED     199685\n",
       "DECISION_ACCOUNT_TERMINATED     20269\n",
       "Name: count, dtype: int64"
      ]
     },
     "execution_count": 43,
     "metadata": {},
     "output_type": "execute_result"
    }
   ],
   "source": [
    "df[\"decision_account\"].value_counts()"
   ]
  },
  {
   "cell_type": "code",
   "execution_count": 44,
   "id": "4befc856",
   "metadata": {},
   "outputs": [
    {
     "data": {
      "application/vnd.microsoft.datawrangler.viewer.v0+json": {
       "columns": [
        {
         "name": "decision_monetary",
         "rawType": "object",
         "type": "string"
        },
        {
         "name": "count",
         "rawType": "int64",
         "type": "integer"
        }
       ],
       "ref": "d4b377fe-000b-4be8-b851-0e308b1d27f2",
       "rows": [
        [
         "DECISION_MONETARY_SUSPENSION",
         "454"
        ]
       ],
       "shape": {
        "columns": 1,
        "rows": 1
       }
      },
      "text/plain": [
       "decision_monetary\n",
       "DECISION_MONETARY_SUSPENSION    454\n",
       "Name: count, dtype: int64"
      ]
     },
     "execution_count": 44,
     "metadata": {},
     "output_type": "execute_result"
    }
   ],
   "source": [
    "df[\"decision_monetary\"].value_counts()"
   ]
  },
  {
   "cell_type": "code",
   "execution_count": 45,
   "id": "e4d55e5f",
   "metadata": {},
   "outputs": [
    {
     "data": {
      "application/vnd.microsoft.datawrangler.viewer.v0+json": {
       "columns": [
        {
         "name": "decision_monetary_other",
         "rawType": "float64",
         "type": "float"
        },
        {
         "name": "count",
         "rawType": "int64",
         "type": "integer"
        }
       ],
       "ref": "37a1711f-93d8-44bb-b21a-e6aef830309c",
       "rows": [],
       "shape": {
        "columns": 1,
        "rows": 0
       }
      },
      "text/plain": [
       "Series([], Name: count, dtype: int64)"
      ]
     },
     "execution_count": 45,
     "metadata": {},
     "output_type": "execute_result"
    }
   ],
   "source": [
    "df[\"decision_monetary_other\"].value_counts()"
   ]
  },
  {
   "cell_type": "code",
   "execution_count": 46,
   "id": "dfcfe123",
   "metadata": {},
   "outputs": [
    {
     "data": {
      "application/vnd.microsoft.datawrangler.viewer.v0+json": {
       "columns": [
        {
         "name": "decision_facts",
         "rawType": "object",
         "type": "string"
        },
        {
         "name": "proportion",
         "rawType": "float64",
         "type": "float"
        }
       ],
       "ref": "9eae49a7-5db4-435d-b0c3-6621f982197d",
       "rows": [
        [
         "When reviewing content or accounts to determine whether they are illegal or violate our policies, we take various information into consideration when making a decision, including product data, website quality, merchant information, account information (e.g., past history of policy violations), and other information provided through reporting mechanisms (where applicable) and own-initiative reviews.",
         "0.82518"
        ],
        [
         "The decision was taken pursuant to own-initiative investigations.",
         "0.071974"
        ],
        [
         "This account was determined to violate terms of service",
         "0.04430333333333333"
        ],
        [
         "<p>Your product needs to be associated with the EU responsible person and manufacturer and meet label compliance requirements.  </p> <a href=\"https://rule.aliexpress.com/rule-channels/37978936/191618628\">More details: \"AliExpress Notice on the Control Measures for the EU General Product Safety Regulation (GPSR) Implementation\"</a></p> <p><br>If the product is not bound to a manufacturer or EU responsible person, you can bind a single product on the product editing page - [Other Settings], or perform batch operations on the [Product Management] page. If there is no optional EU responsible person or manufacturer information in the store, you need to add the EU responsible person and manufacturer information from [Account and Certification] - [My Information] first. For AliExpressDirect sellers, if the label has not been submitted or approved, can upload \"Real Photos of Outer Packaging/Label - EU\" or \"EU GPSR Compliance\" in the [Qualification Information] module of the product editing page or the [Upload Qualification] button on the right. \"regular label\"</p>. More details: https://rule.aliexpress.com/rule-channels/37978936/191618628",
         "0.010049111111111111"
        ],
        [
         "This content was determined to violate terms of service",
         "0.006065333333333333"
        ],
        [
         "We identified this violation through our own investigation. This Pin violates our Community Guidelines on adult content.",
         "0.006023777777777778"
        ],
        [
         "Your product does not meet the EU regulatory compliance requirements, and as a result, it has been temporarily blocked from access to the EU market. The block will be automatically lifted two days after compliance is achieved.. For detailed information, please refer to:https://rule.aliexpress.com/rule-channels/37978936/127561558. If you need to appeal, please submit relevant qualifications",
         "0.005467555555555555"
        ],
        [
         "We identified this violation through our own investigation. This Pin violates our Community Guidelines on adult content, because it contains sexualization of clothed individuals.",
         "0.004111777777777778"
        ],
        [
         "This account was determined to violate terms of use",
         "0.0034668888888888887"
        ],
        [
         "We identified this violation through our own investigation. This Pin violates our Community Guidelines on self-injury and harmful behavior.",
         "0.0025748888888888887"
        ],
        [
         "We identified this violation through our own investigation. This Pin violates our Community Guidelines on adult content, because it contains partially exposed/sexualized individuals.",
         "0.0021264444444444443"
        ],
        [
         "This content was determined to violate terms of use",
         "0.001770888888888889"
        ],
        [
         "We identified this violation through our own investigation. This Pin violates our Community Guidelines on graphic violence, because it contains disturbing images such as imminent violence, hunting of animals, or graphic illustrations featuring explicit or severe acts of violence.",
         "0.001652"
        ],
        [
         "The message has not  been sent. Please be aware that you are required to comply with local laws & policies",
         "0.0015591111111111112"
        ],
        [
         "When reviewing content or accounts to determine whether they are illegal or violate our policies, we take various facts into consideration when making a decision that may include posted content and user's use of the platform, account information (e.g., past history of violations of our terms and conditions), exchanges with and reports from other users (where applicable) and own-initiative reviews.",
         "0.0012677777777777778"
        ],
        [
         "We identified this violation through our own investigation. This Pin violates our Community Guidelines on hateful activities, because it contains slurs, dehumanization, negative generalizations or stereotypes.",
         "0.0011935555555555556"
        ],
        [
         "The decision was taken pursuant to own-initiative investigations",
         "0.0010635555555555557"
        ],
        [
         "The product and/or the product listing information violates Temu policies. This was detected by our own initiative voluntary investigations.",
         "0.0010222222222222223"
        ],
        [
         "Moderation revealed content that violates our catalog rules.",
         "0.000854"
        ],
        [
         "We identified this violation through our own investigation. This Pin violates our Community Guidelines on hateful activities, because it contains support for hate based groups or ideologies.",
         "0.0005815555555555555"
        ],
        [
         "Your product card/content is not compliant with our platform’s policies and contains incomplete or incorrect information.",
         "0.0005104444444444444"
        ],
        [
         "Currently, the mobile phone industry has implemented a brand admission list system. Mobile phone products corresponding to brands not on the platform's admission list will no longer be allowed for sale; hence, your product has been removed from listing. Please refer to the announcement at: https://gsp.aliexpress.com/apps/message/detail/v1?spm=5261.newworkbench.0.0.38994edfrtI9L0&msgId=11559&language=zh_CN&gmtCreate=1658742120000&categoryId=9999&subCategoryId=9999 If you disagree with this penalty decision, you may file an appeal and attach materials proving that your mobile phone product is eligible for sale.",
         "0.00044844444444444445"
        ],
        [
         "Moderation revealed content containing scams and/or fraud.",
         "0.00044355555555555554"
        ],
        [
         "We identified this violation through our own investigation. This Pin violates our Community Guidelines on graphic violence.",
         "0.000436"
        ],
        [
         "We identified this violation through our own investigation. This Pin violates our Community Guidelines on graphic violence, because it features non-targeted glorification of violence, such as gun pointing or satirical references to violence.",
         "0.0004188888888888889"
        ],
        [
         "The decision was taken in response to a report alleging a violation of our Community Guidelines.",
         "0.0004168888888888889"
        ],
        [
         "The listing information violates Amazon’s Terms and Conditions",
         "0.00035777777777777777"
        ],
        [
         "This content was determined to violate our terms of service and/or Community Guidelines",
         "0.00034333333333333335"
        ],
        [
         "Our decisions are based on various information, including the content of the information (e.g. text/images of Adview), associated account information (e.g., past history of policy violations) and other information provided through various sources, e.g. flagging mechanisms or other voluntary own-initiative investigations.",
         "0.00034022222222222223"
        ],
        [
         "we have verified that the product you posted involves the risk of Knife Release Specifications (Knife attribute value violation) being banned. We have removed the product from the shelves. Please check the link for the impact: https://rule.aliexpress.com/rule-channels/37978936/ 127561551. It is recommended that you perform self-examination immediately and delete relevant products and information in a timely manner to avoid further violation and penalty points. If you have objections to the penalty, you can submit appeal materials proving that your products do not involve prohibited products. Thank you for your understanding and support.",
         "0.0003337777777777778"
        ],
        [
         "Moderation revealed content that infringes on intellectual property.",
         "0.0003173333333333333"
        ],
        [
         "When reviewing content or accounts to determine whether they are illegal or violate our policies, we take various information into consideration when making a decision, including reports of the content or users, user's past history of policy violations or terms, human moderation efforts, fraud detection tools or our own investigative efforts.",
         "0.00027044444444444446"
        ],
        [
         "The violation was detected through our investigations, and the decision to take action was made by the moderation team.",
         "0.0002568888888888889"
        ],
        [
         "The violation was detected through our investigations, and the decision to take action was automated.",
         "0.0002311111111111111"
        ],
        [
         "This was reviewed by our team or systems and was enforced for violation of our Community Guidelines and/or Terms of Service.",
         "0.0001631111111111111"
        ],
        [
         "The provided pricing information does not match the pricing information in the online shop. We aim to provide a positive and legally compliant environment on idealo and to reinforce our users' trust in the quality and integrity of the listed offers. For this reason, providers are required to comply with our General Terms and Conditions and guidelines when submitting offers. When reviewing offers to determine whether they violate applicable laws, our General Terms and Conditions or idealo guidelines, we take various pieces of information into consideration. These may notably include the content provided, any relevant product data and information from the online shops.  We further assess information provided by third parties, in particular by rights holders. Our decisions on whether to disable access to offers also take into account the nature and severity of violations, their impact on users and on the functionality of our service.",
         "0.00012466666666666667"
        ],
        [
         "Moderation revealed unsafe and/or illegal products.",
         "0.00012244444444444445"
        ],
        [
         "When reviewing content to determine whether it is illegal or incompatible with our Community Guidelines and should be restricted, we take various factors into consideration, such as: the attributes of the content itself (i.e. the text, title and/or image), patterns associate with the user's other submissions (including any previous violations of our terms), information provided via our reporting mechanisms (which allow our community to report inappropriate, harmful and/or fraudulent content to us) and/or information obtained as a result of our own-initiative investigations.",
         "0.00010088888888888889"
        ],
        [
         "Für die Varianten des Produkts wurden unterschiedliche Produktkategorien verwendet.",
         "0.00010088888888888889"
        ],
        [
         "We identified this violation through our own investigation. This Pin violates our Community Guidelines on misinformation, related to medical misinformation.",
         "9.933333333333334e-05"
        ],
        [
         "due to violating AliExpress rules and involving compliance issues with therapeutic functional products, this product will not be displayed in specific countries/regions. If you have any objections to the punishment, you can submit an appeal material. Thank you for your understanding and support. Please refer to the rules for details：https://rule.aliexpress.com/rule-channels/37978936/?tocUuid=BU4Vpnev9Y9Ghm6r",
         "9.11111111111111e-05"
        ],
        [
         "This was reviewed by our team or systems and was enforced against our Content Guidelines for Recommendation Eligibility.",
         "8.022222222222222e-05"
        ],
        [
         "Your product  allegedly infringes upon the intellectual property right(s)  , and therefore cannot be published.  Please ensure that you did not copy or otherwise imitate the product title, images, product category, product attributes and specifications, description, or any other protected content concerning this brand (including but not limited to brand’s generic trademark, descriptive trademark, or other relevant information).   If you disagree with the charge, you can click here <a href=https://report.aliexpress.com/health/punish/punishList.htm> (Violations->Infringements)and apply for an appeal upon receiving this notice. Please pay close attention to the deadline as the link provided will expire after the time has passed, and you only get one chance to apply for an appeal.    Tips:1. If you have obtained authorization from the relevant brand or products that you sell came from an authorized agent, please re-submit qualification documents. Please <https://gsp.aliexpress.com/apps/oversea/brand/add>log in and head to ‘Account  -> ‘My Brands’-> ‘Add a brand'  . The platform will process the application in 3 working days. Once the documents are successfully verified by the platform, you will be able to continue publishing listings of this brand.  2. According to the platform rules, the penalties for such violations will result in points being deducted from your account. Once you have used up 48 points due to penalties for violations, your account will either be restricted or disabled by the platform. To avoid this outcome, please ensure that your product listings comply with all the platform rules of AliExpress.  3. The Intellectual Property Rights (IPR) Protection Policy: https://rule.aliexpress.com/rule-channels/37978936/127561565  Thank you for your cooperation and understanding. This is a system generated email, you do not need to reply.    Best regards",
         "7.133333333333334e-05"
        ],
        [
         "The respective content refers to products or components that are prohibited or whose sale is prohibited. We aim to provide a positive and legally compliant environment on idealo and to reinforce our users' trust in the quality and integrity of the listed offers. For this reason, providers are required to comply with our General Terms and Conditions and guidelines when submitting offers. When reviewing offers to determine whether they violate applicable laws, our General Terms and Conditions or idealo guidelines, we take various pieces of information into consideration. These may notably include the content provided, any relevant product data and information from the online shops.  We further assess information provided by third parties, in particular by rights holders. Our decisions on whether to disable access to offers also take into account the nature and severity of violations, their impact on users and on the functionality of our service.",
         "5.9555555555555554e-05"
        ],
        [
         "Because your product does not meet the compliance requirements for French product qualifications, the product is now blocked in France. Self-operated/semi-hosted merchants should check the blocking status of non-compliant products in the store, qualification review results and re-submission of qualifications in the merchant backend - products - [Product Qualification] and [Qualification Review Query] modules. Fully managed merchants should check the blocking status of non-compliant products in the store, qualification review results and re-submission of qualifications in the superior backend - product list - [Compliance Diagnosis] and [Qualification Upload Record] modules.",
         "5.4e-05"
        ],
        [
         "this product have been no successful payment orders from EU countries in the past 90 days, so this product is not visible in France. For specific rule announcements, you can refer to: https://rule.aliexpress.com/rule-channels/36963666/184999213",
         "5.377777777777778e-05"
        ],
        [
         "In order to better regulate the development of the children's toys and infant products industry on the AliExpress platform and ensure that platform products comply with relevant domestic and foreign laws and regulations, the platform will implement a sales ban on specific high-risk children's toys and infant products in September 2024. It will be implemented on March 4th, so this product is not visible to France. For specific rules announcement, you can refer to: https://rule.aliexpress.com/rule-channels/36963666/184999213",
         "5.088888888888889e-05"
        ],
        [
         "Your product is suspected of trademark infringement in its title and other product information, hence it cannot be published. Please relist the item after correcting the product details. This penalty will not affect your score. You can locate the corresponding product under \"Products -> Product Management > Not Approved.\" Click the edit button, make the necessary adjustments, and resubmit for review. If you disagree with the penalty, you may file an appeal with materials proving that your product does not infringe on any intellectual property rights. Your understanding and cooperation are appreciated. For more details, please refer to our Intellectual Property Rights (IPR) Protection Policy: https://rule.aliexpress.com/rule-channels/37978936/127561565",
         "5.088888888888889e-05"
        ],
        [
         "We identified this violation through our own investigation. This Pin violates our Community Guidelines on child safety, specifically non-sexualized minor nudity or reference to sexualized minor.",
         "4.844444444444444e-05"
        ],
        [
         "We identified this violation through our own investigation. The reported content violates Pinterest’s Copyright Policy.",
         "4.777777777777778e-05"
        ]
       ],
       "shape": {
        "columns": 1,
        "rows": 318
       }
      },
      "text/plain": [
       "decision_facts\n",
       "When reviewing content or accounts to determine whether they are illegal or violate our policies, we take various information into consideration when making a decision, including product data, website quality, merchant information, account information (e.g., past history of policy violations), and other information provided through reporting mechanisms (where applicable) and own-initiative reviews.                                                                                                                                                                                                                                                                                                                                                                                                                                                                                                                                                                                                                                                                                                                                                                               8.251800e-01\n",
       "The decision was taken pursuant to own-initiative investigations.                                                                                                                                                                                                                                                                                                                                                                                                                                                                                                                                                                                                                                                                                                                                                                                                                                                                                                                                                                                                                                                                                                                               7.197400e-02\n",
       "This account was determined to violate terms of service                                                                                                                                                                                                                                                                                                                                                                                                                                                                                                                                                                                                                                                                                                                                                                                                                                                                                                                                                                                                                                                                                                                                         4.430333e-02\n",
       "<p>Your product needs to be associated with the EU responsible person and manufacturer and meet label compliance requirements.  </p> <a href=\"https://rule.aliexpress.com/rule-channels/37978936/191618628\">More details: \"AliExpress Notice on the Control Measures for the EU General Product Safety Regulation (GPSR) Implementation\"</a></p> <p><br>If the product is not bound to a manufacturer or EU responsible person, you can bind a single product on the product editing page - [Other Settings], or perform batch operations on the [Product Management] page. If there is no optional EU responsible person or manufacturer information in the store, you need to add the EU responsible person and manufacturer information from [Account and Certification] - [My Information] first. For AliExpressDirect sellers, if the label has not been submitted or approved, can upload \"Real Photos of Outer Packaging/Label - EU\" or \"EU GPSR Compliance\" in the [Qualification Information] module of the product editing page or the [Upload Qualification] button on the right. \"regular label\"</p>. More details: https://rule.aliexpress.com/rule-channels/37978936/191618628    1.004911e-02\n",
       "This content was determined to violate terms of service                                                                                                                                                                                                                                                                                                                                                                                                                                                                                                                                                                                                                                                                                                                                                                                                                                                                                                                                                                                                                                                                                                                                         6.065333e-03\n",
       "                                                                                                                                                                                                                                                                                                                                                                                                                                                                                                                                                                                                                                                                                                                                                                                                                                                                                                                                                                                                                                                                                                                                                                                                    ...     \n",
       "Our automated systems detected that your form do not comply with our Ads Policies. Our Trust and Safety team has removed it from LinkedIn.                                                                                                                                                                                                                                                                                                                                                                                                                                                                                                                                                                                                                                                                                                                                                                                                                                                                                                                                                                                                                                                      2.222222e-07\n",
       "Our automated systems detected that your job doesn’t comply with our Jobs Policies on illegitimate job post. Our Trust and Safety team has removed it from LinkedIn and only you can access it. Repeatedly posting jobs that doesn’t comply with our policies could lead to a temporary suspension of your job posting abilities.                                                                                                                                                                                                                                                                                                                                                                                                                                                                                                                                                                                                                                                                                                                                                                                                                                                               2.222222e-07\n",
       "Unsere Überprüfung hat ergeben, dass das gegenständliche Inserat unzulässige Begriffe / Markenaufzählungen beinhaltet.                                                                                                                                                                                                                                                                                                                                                                                                                                                                                                                                                                                                                                                                                                                                                                                                                                                                                                                                                                                                                                                                          2.222222e-07\n",
       "Es wurden Produkte eingestellt, die gegen geltendes Recht verstoßen.                                                                                                                                                                                                                                                                                                                                                                                                                                                                                                                                                                                                                                                                                                                                                                                                                                                                                                                                                                                                                                                                                                                            2.222222e-07\n",
       "This violation was reported to us. This ad violates our Advertising Guidelines: on healthcare products and services, on sensitive content                                                                                                                                                                                                                                                                                                                                                                                                                                                                                                                                                                                                                                                                                                                                                                                                                                                                                                                                                                                                                                                       2.222222e-07\n",
       "Name: proportion, Length: 318, dtype: float64"
      ]
     },
     "execution_count": 46,
     "metadata": {},
     "output_type": "execute_result"
    }
   ],
   "source": [
    "df[\"decision_facts\"].value_counts(normalize=True)"
   ]
  },
  {
   "cell_type": "code",
   "execution_count": 47,
   "id": "233f91ee",
   "metadata": {},
   "outputs": [
    {
     "data": {
      "application/vnd.microsoft.datawrangler.viewer.v0+json": {
       "columns": [
        {
         "name": "decision_provision",
         "rawType": "object",
         "type": "string"
        },
        {
         "name": "proportion",
         "rawType": "float64",
         "type": "float"
        }
       ],
       "ref": "614b75d9-c1a2-4a05-a083-bf3ce1a179f6",
       "rows": [
        [
         "DECISION_PROVISION_PARTIAL_SUSPENSION",
         "0.710594315245478"
        ],
        [
         "DECISION_PROVISION_TOTAL_TERMINATION",
         "0.24892334194659776"
        ],
        [
         "DECISION_PROVISION_TOTAL_SUSPENSION",
         "0.03502727533735286"
        ],
        [
         "DECISION_PROVISION_PARTIAL_TERMINATION",
         "0.005455067470571347"
        ]
       ],
       "shape": {
        "columns": 1,
        "rows": 4
       }
      },
      "text/plain": [
       "decision_provision\n",
       "DECISION_PROVISION_PARTIAL_SUSPENSION     0.710594\n",
       "DECISION_PROVISION_TOTAL_TERMINATION      0.248923\n",
       "DECISION_PROVISION_TOTAL_SUSPENSION       0.035027\n",
       "DECISION_PROVISION_PARTIAL_TERMINATION    0.005455\n",
       "Name: proportion, dtype: float64"
      ]
     },
     "execution_count": 47,
     "metadata": {},
     "output_type": "execute_result"
    }
   ],
   "source": [
    "df[\"decision_provision\"].value_counts(normalize=True)"
   ]
  },
  {
   "cell_type": "code",
   "execution_count": 32,
   "id": "fe60e620",
   "metadata": {},
   "outputs": [
    {
     "data": {
      "application/vnd.microsoft.datawrangler.viewer.v0+json": {
       "columns": [
        {
         "name": "decision_visibility",
         "rawType": "object",
         "type": "string"
        },
        {
         "name": "proportion",
         "rawType": "float64",
         "type": "float"
        }
       ],
       "ref": "cf0aa514-b089-4823-b6d6-28bdfb66dbe3",
       "rows": [
        [
         "[\"DECISION_VISIBILITY_CONTENT_DISABLED\"]",
         "0.9055703925668778"
        ],
        [
         "[\"DECISION_VISIBILITY_CONTENT_REMOVED\"]",
         "0.0557385564957451"
        ],
        [
         "[\"DECISION_VISIBILITY_OTHER\"]",
         "0.03579023819515673"
        ],
        [
         "[\"DECISION_VISIBILITY_CONTENT_DEMOTED\"]",
         "0.0013907643913331545"
        ],
        [
         "[\"DECISION_VISIBILITY_CONTENT_INTERACTION_RESTRICTED\"]",
         "0.0008609608371040452"
        ],
        [
         "[\"DECISION_VISIBILITY_CONTENT_AGE_RESTRICTED\"]",
         "0.0005182599452400048"
        ],
        [
         "[\"DECISION_VISIBILITY_CONTENT_LABELLED\"]",
         "8.176723033949032e-05"
        ],
        [
         "[]",
         "2.1644266854570967e-05"
        ],
        [
         "[\"DECISION_VISIBILITY_CONTENT_REMOVED\",\"DECISION_VISIBILITY_CONTENT_AGE_RESTRICTED\"]",
         "1.683442977577742e-05"
        ],
        [
         "[\"DECISION_VISIBILITY_OTHER\",\"DECISION_VISIBILITY_CONTENT_AGE_RESTRICTED\"]",
         "8.41721488788871e-06"
        ],
        [
         "[\"DECISION_VISIBILITY_OTHER\",\"DECISION_VISIBILITY_CONTENT_DEMOTED\"]",
         "7.214755618190323e-07"
        ],
        [
         "[\"DECISION_VISIBILITY_CONTENT_INTERACTION_RESTRICTED\",\"DECISION_VISIBILITY_CONTENT_REMOVED\"]",
         "7.214755618190323e-07"
        ],
        [
         "[\"DECISION_VISIBILITY_CONTENT_AGE_RESTRICTED\",\"DECISION_VISIBILITY_CONTENT_REMOVED\"]",
         "4.809837078793549e-07"
        ],
        [
         "[\"DECISION_VISIBILITY_CONTENT_AGE_RESTRICTED\",\"DECISION_VISIBILITY_OTHER\"]",
         "2.4049185393967744e-07"
        ]
       ],
       "shape": {
        "columns": 1,
        "rows": 14
       }
      },
      "text/plain": [
       "decision_visibility\n",
       "[\"DECISION_VISIBILITY_CONTENT_DISABLED\"]                                                        9.055704e-01\n",
       "[\"DECISION_VISIBILITY_CONTENT_REMOVED\"]                                                         5.573856e-02\n",
       "[\"DECISION_VISIBILITY_OTHER\"]                                                                   3.579024e-02\n",
       "[\"DECISION_VISIBILITY_CONTENT_DEMOTED\"]                                                         1.390764e-03\n",
       "[\"DECISION_VISIBILITY_CONTENT_INTERACTION_RESTRICTED\"]                                          8.609608e-04\n",
       "[\"DECISION_VISIBILITY_CONTENT_AGE_RESTRICTED\"]                                                  5.182599e-04\n",
       "[\"DECISION_VISIBILITY_CONTENT_LABELLED\"]                                                        8.176723e-05\n",
       "[]                                                                                              2.164427e-05\n",
       "[\"DECISION_VISIBILITY_CONTENT_REMOVED\",\"DECISION_VISIBILITY_CONTENT_AGE_RESTRICTED\"]            1.683443e-05\n",
       "[\"DECISION_VISIBILITY_OTHER\",\"DECISION_VISIBILITY_CONTENT_AGE_RESTRICTED\"]                      8.417215e-06\n",
       "[\"DECISION_VISIBILITY_OTHER\",\"DECISION_VISIBILITY_CONTENT_DEMOTED\"]                             7.214756e-07\n",
       "[\"DECISION_VISIBILITY_CONTENT_INTERACTION_RESTRICTED\",\"DECISION_VISIBILITY_CONTENT_REMOVED\"]    7.214756e-07\n",
       "[\"DECISION_VISIBILITY_CONTENT_AGE_RESTRICTED\",\"DECISION_VISIBILITY_CONTENT_REMOVED\"]            4.809837e-07\n",
       "[\"DECISION_VISIBILITY_CONTENT_AGE_RESTRICTED\",\"DECISION_VISIBILITY_OTHER\"]                      2.404919e-07\n",
       "Name: proportion, dtype: float64"
      ]
     },
     "execution_count": 32,
     "metadata": {},
     "output_type": "execute_result"
    }
   ],
   "source": [
    "df[\"decision_visibility\"].value_counts(normalize=True)"
   ]
  },
  {
   "cell_type": "code",
   "execution_count": null,
   "id": "c051ddd6",
   "metadata": {},
   "outputs": [],
   "source": []
  }
 ],
 "metadata": {
  "kernelspec": {
   "display_name": "dsa-analysis",
   "language": "python",
   "name": "python3"
  },
  "language_info": {
   "codemirror_mode": {
    "name": "ipython",
    "version": 3
   },
   "file_extension": ".py",
   "mimetype": "text/x-python",
   "name": "python",
   "nbconvert_exporter": "python",
   "pygments_lexer": "ipython3",
   "version": "3.12.11"
  }
 },
 "nbformat": 4,
 "nbformat_minor": 5
}
